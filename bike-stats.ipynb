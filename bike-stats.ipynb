{
 "cells": [
  {
   "cell_type": "code",
   "execution_count": 6,
   "id": "7d3df923-4661-4d3f-8d19-d7adedb18bb0",
   "metadata": {},
   "outputs": [],
   "source": [
    "import pandas as pd"
   ]
  },
  {
   "cell_type": "code",
   "execution_count": 62,
   "id": "b3430199-dab4-425b-ab72-571dcc3a809b",
   "metadata": {},
   "outputs": [
    {
     "name": "stderr",
     "output_type": "stream",
     "text": [
      "b'Skipping line 50794: expected 12 fields, saw 20\\n'\n"
     ]
    }
   ],
   "source": [
    "station_file = pd.read_csv('./station.csv')\n",
    "trip_file = pd.read_csv('./trip.csv', error_bad_lines =False)\n",
    "weather_file = pd.read_csv('./weather.csv')\n",
    "# station_file\n",
    "# trip_file\n",
    "# weather_file"
   ]
  },
  {
   "cell_type": "code",
   "execution_count": 20,
   "id": "4937a4fb-94f7-4495-98ca-dbedc2d0355a",
   "metadata": {},
   "outputs": [
    {
     "data": {
      "text/plain": [
       "19.638261255666293"
      ]
     },
     "execution_count": 20,
     "metadata": {},
     "output_type": "execute_result"
    }
   ],
   "source": [
    "duration = trip_file['tripduration'].mean()/60\n",
    "duration"
   ]
  },
  {
   "cell_type": "code",
   "execution_count": 29,
   "id": "eecac023-b411-4441-b227-b91bff9e2701",
   "metadata": {},
   "outputs": [
    {
     "data": {
      "text/plain": [
       "34.0"
      ]
     },
     "execution_count": 29,
     "metadata": {},
     "output_type": "execute_result"
    }
   ],
   "source": [
    "most_year_of_birth = trip_file['birthyear'].value_counts().idxmax()\n",
    "age = 2021 - most_year_of_birth\n",
    "age"
   ]
  },
  {
   "cell_type": "code",
   "execution_count": 48,
   "id": "26a78e35-b4c1-4c1f-a9fe-d76e5642b85d",
   "metadata": {},
   "outputs": [
    {
     "data": {
      "text/plain": [
       "16.517241379310345"
      ]
     },
     "execution_count": 48,
     "metadata": {},
     "output_type": "execute_result"
    }
   ],
   "source": [
    "ava_num_of_pike = station_file.current_dockcount.mean()\n",
    "ava_num_of_pike"
   ]
  },
  {
   "cell_type": "code",
   "execution_count": 47,
   "id": "9be3311e-56f8-4339-ac15-709386b67d13",
   "metadata": {},
   "outputs": [
    {
     "data": {
      "text/plain": [
       "-64"
      ]
     },
     "execution_count": 47,
     "metadata": {},
     "output_type": "execute_result"
    }
   ],
   "source": [
    "filtered_stat = station_file[['modification_date','install_dockcount','current_dockcount']].dropna()\n",
    "curr_mod = filtered_stat['current_dockcount'].sum()- filtered_stat['install_dockcount'].sum()\n",
    "curr_mod"
   ]
  },
  {
   "cell_type": "code",
   "execution_count": 49,
   "id": "475d7dda-2150-479e-9f7f-dc86c93e2762",
   "metadata": {},
   "outputs": [
    {
     "name": "stdout",
     "output_type": "stream",
     "text": [
      "Done..!\n"
     ]
    }
   ],
   "source": [
    "def test():\n",
    "\n",
    "    def assert_equal(actual,expected):\n",
    "        assert actual == expected, f\"Expected {expected} but got {actual}\"\n",
    "\n",
    "    assert_equal(duration , 19.638261255666293 )\n",
    "    assert_equal(age, 34.0)\n",
    "    assert_equal(ava_num_of_pike, 16.517241379310345)\n",
    "    assert_equal(curr_mod, -64)\n",
    "    print(\"Passed\")\n",
    "\n",
    "test()"
   ]
  },
  {
   "cell_type": "code",
   "execution_count": 54,
   "id": "3e3d7d52-9bc3-431f-9ccb-ed9305144f94",
   "metadata": {},
   "outputs": [
    {
     "data": {
      "text/html": [
       "<div>\n",
       "<style scoped>\n",
       "    .dataframe tbody tr th:only-of-type {\n",
       "        vertical-align: middle;\n",
       "    }\n",
       "\n",
       "    .dataframe tbody tr th {\n",
       "        vertical-align: top;\n",
       "    }\n",
       "\n",
       "    .dataframe thead th {\n",
       "        text-align: right;\n",
       "    }\n",
       "</style>\n",
       "<table border=\"1\" class=\"dataframe\">\n",
       "  <thead>\n",
       "    <tr style=\"text-align: right;\">\n",
       "      <th></th>\n",
       "      <th>name</th>\n",
       "      <th>install_dockcount</th>\n",
       "    </tr>\n",
       "  </thead>\n",
       "  <tbody>\n",
       "    <tr>\n",
       "      <th>22</th>\n",
       "      <td>Children's Hospital / Sandpoint Way NE &amp; 40th ...</td>\n",
       "      <td>30</td>\n",
       "    </tr>\n",
       "  </tbody>\n",
       "</table>\n",
       "</div>"
      ],
      "text/plain": [
       "                                                 name  install_dockcount\n",
       "22  Children's Hospital / Sandpoint Way NE & 40th ...                 30"
      ]
     },
     "execution_count": 54,
     "metadata": {},
     "output_type": "execute_result"
    }
   ],
   "source": [
    "most_dockcount = station_file[['name', 'install_dockcount']].sort_values(['install_dockcount'], ascending=False).head(1)\n",
    "most_dockcount"
   ]
  },
  {
   "cell_type": "code",
   "execution_count": 60,
   "id": "e3572050-7489-4b65-8e17-3e4ba403c208",
   "metadata": {},
   "outputs": [
    {
     "data": {
      "text/html": [
       "<div>\n",
       "<style scoped>\n",
       "    .dataframe tbody tr th:only-of-type {\n",
       "        vertical-align: middle;\n",
       "    }\n",
       "\n",
       "    .dataframe tbody tr th {\n",
       "        vertical-align: top;\n",
       "    }\n",
       "\n",
       "    .dataframe thead th {\n",
       "        text-align: right;\n",
       "    }\n",
       "</style>\n",
       "<table border=\"1\" class=\"dataframe\">\n",
       "  <thead>\n",
       "    <tr style=\"text-align: right;\">\n",
       "      <th></th>\n",
       "      <th>trip_id</th>\n",
       "      <th>tripduration</th>\n",
       "      <th>birthyear</th>\n",
       "    </tr>\n",
       "    <tr>\n",
       "      <th>gender</th>\n",
       "      <th></th>\n",
       "      <th></th>\n",
       "      <th></th>\n",
       "    </tr>\n",
       "  </thead>\n",
       "  <tbody>\n",
       "    <tr>\n",
       "      <th>Female</th>\n",
       "      <td>107671.728342</td>\n",
       "      <td>706.723239</td>\n",
       "      <td>1978.368470</td>\n",
       "    </tr>\n",
       "    <tr>\n",
       "      <th>Male</th>\n",
       "      <td>107772.429399</td>\n",
       "      <td>564.880833</td>\n",
       "      <td>1980.119198</td>\n",
       "    </tr>\n",
       "    <tr>\n",
       "      <th>Other</th>\n",
       "      <td>124056.671816</td>\n",
       "      <td>613.347563</td>\n",
       "      <td>1980.227048</td>\n",
       "    </tr>\n",
       "  </tbody>\n",
       "</table>\n",
       "</div>"
      ],
      "text/plain": [
       "              trip_id  tripduration    birthyear\n",
       "gender                                          \n",
       "Female  107671.728342    706.723239  1978.368470\n",
       "Male    107772.429399    564.880833  1980.119198\n",
       "Other   124056.671816    613.347563  1980.227048"
      ]
     },
     "execution_count": 60,
     "metadata": {},
     "output_type": "execute_result"
    }
   ],
   "source": [
    "trip_file.groupby(\"gender\").mean()"
   ]
  },
  {
   "cell_type": "code",
   "execution_count": 61,
   "id": "3f789397-d206-4178-ae54-b87c70b83fb7",
   "metadata": {},
   "outputs": [
    {
     "data": {
      "text/html": [
       "<div>\n",
       "<style scoped>\n",
       "    .dataframe tbody tr th:only-of-type {\n",
       "        vertical-align: middle;\n",
       "    }\n",
       "\n",
       "    .dataframe tbody tr th {\n",
       "        vertical-align: top;\n",
       "    }\n",
       "\n",
       "    .dataframe thead th {\n",
       "        text-align: right;\n",
       "    }\n",
       "</style>\n",
       "<table border=\"1\" class=\"dataframe\">\n",
       "  <thead>\n",
       "    <tr style=\"text-align: right;\">\n",
       "      <th></th>\n",
       "      <th>trip_id</th>\n",
       "      <th>tripduration</th>\n",
       "      <th>birthyear</th>\n",
       "    </tr>\n",
       "    <tr>\n",
       "      <th>gender</th>\n",
       "      <th></th>\n",
       "      <th></th>\n",
       "      <th></th>\n",
       "    </tr>\n",
       "  </thead>\n",
       "  <tbody>\n",
       "    <tr>\n",
       "      <th>Female</th>\n",
       "      <td>94263.0</td>\n",
       "      <td>566.718</td>\n",
       "      <td>1982.0</td>\n",
       "    </tr>\n",
       "    <tr>\n",
       "      <th>Male</th>\n",
       "      <td>97371.5</td>\n",
       "      <td>457.516</td>\n",
       "      <td>1983.0</td>\n",
       "    </tr>\n",
       "    <tr>\n",
       "      <th>Other</th>\n",
       "      <td>129404.0</td>\n",
       "      <td>549.237</td>\n",
       "      <td>1987.0</td>\n",
       "    </tr>\n",
       "  </tbody>\n",
       "</table>\n",
       "</div>"
      ],
      "text/plain": [
       "         trip_id  tripduration  birthyear\n",
       "gender                                   \n",
       "Female   94263.0       566.718     1982.0\n",
       "Male     97371.5       457.516     1983.0\n",
       "Other   129404.0       549.237     1987.0"
      ]
     },
     "execution_count": 61,
     "metadata": {},
     "output_type": "execute_result"
    }
   ],
   "source": [
    "trip_file.groupby(\"gender\").median()"
   ]
  },
  {
   "cell_type": "code",
   "execution_count": null,
   "id": "6636b390-1c49-46d2-82a4-660ff33bfc7f",
   "metadata": {},
   "outputs": [],
   "source": []
  }
 ],
 "metadata": {
  "kernelspec": {
   "display_name": "Python 3",
   "language": "python",
   "name": "python3"
  },
  "language_info": {
   "codemirror_mode": {
    "name": "ipython",
    "version": 3
   },
   "file_extension": ".py",
   "mimetype": "text/x-python",
   "name": "python",
   "nbconvert_exporter": "python",
   "pygments_lexer": "ipython3",
   "version": "3.9.4"
  }
 },
 "nbformat": 4,
 "nbformat_minor": 5
}
